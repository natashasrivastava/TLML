{
 "cells": [
  {
   "cell_type": "code",
   "execution_count": 1,
   "id": "174733c3",
   "metadata": {},
   "outputs": [],
   "source": [
    "import numpy as np \n",
    "import pandas as pd \n",
    "from pathlib import Path\n",
    "\n",
    "from keras.preprocessing import image\n",
    "from keras.applications import vgg16\n",
    "import joblib"
   ]
  },
  {
   "cell_type": "code",
   "execution_count": null,
   "id": "23f2135e",
   "metadata": {},
   "outputs": [
    {
     "name": "stdout",
     "output_type": "stream",
     "text": [
      "adding on\n"
     ]
    }
   ],
   "source": [
    "covid_pneumonia= Path(\"Data/train/covid_with_PNEUMONIA\")\n",
    "covid_non_pneumonia=Path(\"Data/train/covid_without_PNEUMONIA\")\n",
    "images=[]\n",
    "labels=[]\n",
    "print('adding on')\n",
    "\n",
    "for i in covid_pneumonia.glob(\"*.jpeg\"):\n",
    "    image_data= image.load_img(i,target_size=(700,700))\n",
    "    i_array= image.img_to_array(image_data)\n",
    "    images.append(i_array)\n",
    "    labels.append(1)\n",
    "\n",
    "for i in covid_non_pneumonia.glob(\"*.jpeg\"):    \n",
    "    image_data= image.load_img(i,target_size=(700,700))\n",
    "    i_array= image.img_to_array(image_data)\n",
    "    images.append(i_array)\n",
    "    labels.append(0)\n",
    "\n",
    "    x_train= np.array(images)\n",
    "y_train= np.array(labels)\n",
    "\n",
    "x_train = vgg16.preprocess_input(x_train)\n",
    "pretrained_model= vgg16.VGG16(weights=\"vgg16_weights_tf_dim_ordering_tf_kernels_notop.h5\",input_shape=(700,700,3),include_top=False)\n",
    "\n",
    "features_x= pretrained_model.predict(x_train)\n",
    "\n",
    "print('pretraining is done............................')\n"
   ]
  },
  {
   "cell_type": "code",
   "execution_count": null,
   "id": "5ec13418",
   "metadata": {},
   "outputs": [],
   "source": []
  }
 ],
 "metadata": {
  "kernelspec": {
   "display_name": "Python 3",
   "language": "python",
   "name": "python3"
  },
  "language_info": {
   "codemirror_mode": {
    "name": "ipython",
    "version": 3
   },
   "file_extension": ".py",
   "mimetype": "text/x-python",
   "name": "python",
   "nbconvert_exporter": "python",
   "pygments_lexer": "ipython3",
   "version": "3.8.10"
  }
 },
 "nbformat": 4,
 "nbformat_minor": 5
}
